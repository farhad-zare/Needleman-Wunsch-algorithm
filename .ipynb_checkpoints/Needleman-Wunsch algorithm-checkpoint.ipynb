{
 "cells": [
  {
   "cell_type": "markdown",
   "id": "a3824e97",
   "metadata": {},
   "source": [
    "# Implementation of Needleman–Wunsch algorithm"
   ]
  },
  {
   "cell_type": "markdown",
   "id": "76d9b62c",
   "metadata": {},
   "source": [
    "The Needleman–Wunsch algorithm is used to align protein or nucleotide sequences. \n"
   ]
  },
  {
   "cell_type": "code",
   "execution_count": 1,
   "id": "2dc57359",
   "metadata": {},
   "outputs": [
    {
     "name": "stdout",
     "output_type": "stream",
     "text": [
      "Enter your first sequence: GCATGCG\n"
     ]
    }
   ],
   "source": [
    "# I add a dash \"-\" to each sequence\n",
    "Seq1='-'+input('Enter your first sequence: ')\n"
   ]
  },
  {
   "cell_type": "code",
   "execution_count": 2,
   "id": "11b8eaf6",
   "metadata": {},
   "outputs": [
    {
     "name": "stdout",
     "output_type": "stream",
     "text": [
      "Enter your Second sequence: GATTACA\n"
     ]
    },
    {
     "data": {
      "text/plain": [
       "'-GATTACA'"
      ]
     },
     "execution_count": 2,
     "metadata": {},
     "output_type": "execute_result"
    }
   ],
   "source": [
    "Seq2='-'+input('Enter your Second sequence: ')\n",
    "Seq2"
   ]
  },
  {
   "cell_type": "markdown",
   "id": "5dbbe014",
   "metadata": {},
   "source": [
    "First we make an zero matrix that has the column name as the first sequence with first culomn to be '-' and the name of the rows to be second sequence and first row to be '-'.\n"
   ]
  },
  {
   "cell_type": "code",
   "execution_count": 3,
   "id": "5649b43c",
   "metadata": {},
   "outputs": [
    {
     "data": {
      "text/plain": [
       "[[0, 0, 0, 0, 0, 0, 0, 0],\n",
       " [0, 0, 0, 0, 0, 0, 0, 0],\n",
       " [0, 0, 0, 0, 0, 0, 0, 0],\n",
       " [0, 0, 0, 0, 0, 0, 0, 0],\n",
       " [0, 0, 0, 0, 0, 0, 0, 0],\n",
       " [0, 0, 0, 0, 0, 0, 0, 0],\n",
       " [0, 0, 0, 0, 0, 0, 0, 0],\n",
       " [0, 0, 0, 0, 0, 0, 0, 0]]"
      ]
     },
     "execution_count": 3,
     "metadata": {},
     "output_type": "execute_result"
    }
   ],
   "source": [
    "# Zero matrix\n",
    "n=len(Seq1)\n",
    "m=len(Seq2)\n",
    "\n",
    "MATRIX=[[0 for j in range(n)] for i in range(m)]\n",
    "\n",
    "Matrixarray=[['-' for j in range(n)] for i in range(m)]\n",
    "MATRIX"
   ]
  },
  {
   "cell_type": "markdown",
   "id": "d31cac97",
   "metadata": {},
   "source": [
    "# choose scoring system \n",
    "\n",
    "The letters may match, mismatch, or be matched to a gap (a deletion or insertion (indel)):\n",
    "\n",
    "Match: The two letters at the current index are the same.\n",
    "\n",
    "Mismatch: The two letters at the current index are different.\n",
    "\n",
    "Indel (INsertion or DELetion): The best alignment involves one letter aligning to a gap in the other string.\n",
    "\n",
    "Here I choose scoring system to be \n",
    "\n",
    "Match: +1\n",
    "\n",
    "Mismatch or Indel: −1"
   ]
  },
  {
   "cell_type": "code",
   "execution_count": 4,
   "id": "bae0f89c",
   "metadata": {},
   "outputs": [],
   "source": [
    "# Scoring system \n",
    "Match=1\n",
    "Mismatch=-1\n",
    "gap= -1\n",
    "def Score(A,B):\n",
    "    s=0\n",
    "    if A=='-' or B=='-':\n",
    "        s+=gap\n",
    "    elif A==B:\n",
    "        s+=Match\n",
    "    else:\n",
    "        s+=Mismatch\n",
    "    return s\n"
   ]
  },
  {
   "cell_type": "markdown",
   "id": "09a5a7a9",
   "metadata": {},
   "source": [
    "Filling the matrix\n",
    "\n",
    "Start with a zero in the first row, first column. Move through the cells row by row, calculating the score for each cell. The score is calculated by comparing the scores of the cells neighboring to the left, top or top-left (diagonal) of the cell and adding the appropriate score for match, mismatch or indel.\n",
    "\n",
    " The path from the top or left cell represents an indel pairing, so take the scores of the left and the top cell, and add the score for indel to each of them.\n",
    " \n",
    " The diagonal path represents a match/mismatch, so take the score of the top-left diagonal cell and add the score for match if the corresponding bases (letters) in the row and column are matching or the score for mismatch if they do not.\n"
   ]
  },
  {
   "cell_type": "code",
   "execution_count": 5,
   "id": "fcb92455",
   "metadata": {},
   "outputs": [],
   "source": [
    "#Define Unicode arrows \n",
    "up_arrow = \"\\u2191\"\n",
    "left_arrow = \"\\u2190\"\n",
    "up_left_arrow = \"\\u2196\""
   ]
  },
  {
   "cell_type": "code",
   "execution_count": 6,
   "id": "f469000d",
   "metadata": {},
   "outputs": [],
   "source": [
    "for row in range(0,m):\n",
    "    for col in range(0,n):\n",
    "        if row==0 or col==0:\n",
    "            if row>0:\n",
    "                MATRIX[row][col]=MATRIX[row-1][col]+gap\n",
    "                Matrixarray[row][col]=up_arrow\n",
    "            if col>0:\n",
    "                MATRIX[row][col]=MATRIX[row][col-1]+gap\n",
    "                Matrixarray[row][col]=left_arrow\n",
    "        if row>0 and col>0 :\n",
    "            l_to_R=MATRIX[row-1][col]+gap\n",
    "            daig=MATRIX[row-1][col-1]+Score(Seq1[col],Seq2[row])\n",
    "            top_to_down=MATRIX[row][col-1]+gap\n",
    "            MAX_list=[l_to_R,daig,top_to_down]\n",
    "            MATRIX[row][col]=max(MAX_list)\n",
    "            Index=MAX_list.index(max(MAX_list))\n",
    "            if Index==0:\n",
    "                Matrixarray[row][col]=up_arrow\n",
    "            elif Index==1:\n",
    "                 Matrixarray[row][col]=up_left_arrow\n",
    "            else:\n",
    "                Matrixarray[row][col]=left_arrow\n",
    "            \n",
    "                \n",
    "        \n",
    "\n",
    "            \n",
    "    "
   ]
  },
  {
   "cell_type": "code",
   "execution_count": 7,
   "id": "1692db1c",
   "metadata": {},
   "outputs": [
    {
     "data": {
      "text/plain": [
       "[[0, -1, -2, -3, -4, -5, -6, -7],\n",
       " [-1, 1, 0, -1, -2, -3, -4, -5],\n",
       " [-2, 0, 0, 1, 0, -1, -2, -3],\n",
       " [-3, -1, -1, 0, 2, 1, 0, -1],\n",
       " [-4, -2, -2, -1, 1, 1, 0, -1],\n",
       " [-5, -3, -3, -1, 0, 0, 0, -1],\n",
       " [-6, -4, -2, -2, -1, -1, 1, 0],\n",
       " [-7, -5, -3, -1, -2, -2, 0, 0]]"
      ]
     },
     "execution_count": 7,
     "metadata": {},
     "output_type": "execute_result"
    }
   ],
   "source": [
    "MATRIX"
   ]
  },
  {
   "cell_type": "code",
   "execution_count": 8,
   "id": "67f16614",
   "metadata": {},
   "outputs": [
    {
     "data": {
      "text/plain": [
       "[['-', '←', '←', '←', '←', '←', '←', '←'],\n",
       " ['↑', '↖', '←', '←', '←', '↖', '←', '↖'],\n",
       " ['↑', '↑', '↖', '↖', '←', '←', '←', '←'],\n",
       " ['↑', '↑', '↑', '↑', '↖', '←', '←', '←'],\n",
       " ['↑', '↑', '↑', '↑', '↑', '↖', '↖', '↖'],\n",
       " ['↑', '↑', '↑', '↖', '↑', '↑', '↖', '↖'],\n",
       " ['↑', '↑', '↖', '↑', '↑', '↑', '↖', '←'],\n",
       " ['↑', '↑', '↑', '↖', '↑', '↑', '↑', '↖']]"
      ]
     },
     "execution_count": 8,
     "metadata": {},
     "output_type": "execute_result"
    }
   ],
   "source": [
    "Matrixarray"
   ]
  },
  {
   "cell_type": "markdown",
   "id": "1b392bb4",
   "metadata": {},
   "source": [
    "Tracing arrows back to origin\n",
    "\n",
    "Follow the arrows' directions to draw a path from the cell on the bottom right back to the cell on the top left.\n",
    "\n",
    "a) Since a diagonal arrow denotes a match or mismatch, the letter of the origin cell's row and column will be in alignment.\n",
    "\n",
    "b) A horizontal or vertical arrow represents an indel. Vertical arrows will align a gap (\"-\") to the letter of the row (the \"side\" sequence), horizontal arrows will align a gap to the letter of the column (the \"top\" sequence).\n",
    "\n",
    "c) If there are multiple arrows to choose from, they represent a branching of the alignments. \n",
    "If two or more branches all belong to paths from the bottom right to the top left cell, they are equally viable alignments. In this case, note the paths as separate alignment candidates."
   ]
  },
  {
   "cell_type": "code",
   "execution_count": 9,
   "id": "f5f193a5",
   "metadata": {},
   "outputs": [],
   "source": [
    "def TracBAck(MATRIXARRAY,SEQ1,SEQ2):\n",
    "    Aligned1=''\n",
    "    Aligned2=''\n",
    "    n=len(SEQ1)\n",
    "    m=len(SEQ2)\n",
    "    c=1\n",
    "    r=1\n",
    "    while MATRIXARRAY[m-r][n-c]!='-':\n",
    "            if MATRIXARRAY[m-r][n-c]==up_left_arrow:\n",
    "                Aligned1+=SEQ1[n-c]\n",
    "                Aligned2+=SEQ2[m-r]\n",
    "                c+=1\n",
    "                r+=1\n",
    "            if MATRIXARRAY[m-r][n-c]==up_arrow:\n",
    "                Aligned1+='-'\n",
    "                Aligned2+=SEQ2[m-r]   \n",
    "                r+=1\n",
    "            if MATRIXARRAY[m-r][n-c]==left_arrow:\n",
    "                Aligned1+=SEQ1[n-c]\n",
    "                Aligned2+='-' \n",
    "                c+=1\n",
    "    print(Aligned1[::-1])\n",
    "    print(Aligned2[::-1])\n",
    "                "
   ]
  },
  {
   "cell_type": "code",
   "execution_count": 10,
   "id": "20cbc069",
   "metadata": {},
   "outputs": [
    {
     "name": "stdout",
     "output_type": "stream",
     "text": [
      "GCATG-CG\n",
      "G-ATTACA\n"
     ]
    }
   ],
   "source": [
    "TracBAck(Matrixarray,Seq1,Seq2)"
   ]
  },
  {
   "cell_type": "code",
   "execution_count": null,
   "id": "f0948044",
   "metadata": {},
   "outputs": [],
   "source": []
  }
 ],
 "metadata": {
  "kernelspec": {
   "display_name": "Python 3 (ipykernel)",
   "language": "python",
   "name": "python3"
  },
  "language_info": {
   "codemirror_mode": {
    "name": "ipython",
    "version": 3
   },
   "file_extension": ".py",
   "mimetype": "text/x-python",
   "name": "python",
   "nbconvert_exporter": "python",
   "pygments_lexer": "ipython3",
   "version": "3.9.12"
  }
 },
 "nbformat": 4,
 "nbformat_minor": 5
}
